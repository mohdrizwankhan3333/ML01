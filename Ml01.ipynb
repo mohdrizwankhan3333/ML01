{
 "cells": [
  {
   "cell_type": "code",
   "execution_count": 1,
   "id": "e02fa814-a103-419c-8e0e-46874008ef12",
   "metadata": {},
   "outputs": [
    {
     "name": "stdout",
     "output_type": "stream",
     "text": [
      "ML01\n"
     ]
    }
   ],
   "source": [
    "'''Q1.\n",
    "AI simulates human intelligence in machines for tasks like decision-making and problem-solving.\n",
    "\n",
    "Example: Siri, Apple's virtual assistant etc\n",
    "\n",
    "b) Machine Learning\n",
    "ML enables systems to learn from data and improve performance without explicit programming.\n",
    "\n",
    "Example: Netflix recommends shows based on your viewing history.\n",
    "\n",
    "c) Deep Learning\n",
    "DL uses neural networks with many layers to model complex patterns in large datasets.\n",
    "\n",
    "Example: Self-driving cars use deep learning for object detection and navigation.\n",
    "\n",
    "Q2.\n",
    "Supervised Learning:\n",
    "Supervised learning uses labeled data to train models that can make predictions or decisions.\n",
    "Examples include image classification (identifying objects in photos), sentiment analysis (analyzing emotions in text), and predicting \n",
    "housing prices based on features like location and size.\n",
    "\n",
    "Q3.\n",
    "Unsupervised Learning:\n",
    "Unsupervised learning trains models on unlabeled data to find patterns and structures.\n",
    "Examples include clustering similar documents, anomaly detection in network traffic, and segmenting customers based on purchase behavior.\n",
    "\n",
    "Q4.\n",
    "Difference between AI, ML, DL, and DS:\n",
    "AI (Artificial Intelligence) encompasses the simulation of human intelligence in machines. ML (Machine Learning) is a subset of AI where algorithms \n",
    "learn from data. DL (Deep Learning) is a subset of ML using neural networks with many layers. DS (Data Science)\n",
    "includes methods and systems to extract knowledge and insights from data.\n",
    "\n",
    "Q5.\n",
    "Differences:\n",
    "Supervised learning uses labeled data to train models for making predictions. Unsupervised learning finds patterns in unlabeled data.\n",
    "Semi-supervised learning combines both labeled and unlabeled data for training more accurate models.\n",
    "\n",
    "Q6.\n",
    "Train, Test, and Validation Split:\n",
    "Train set is used to train the model; test set evaluates its performance on unseen data; validation set fine-tunes model parameters to optimize\n",
    "performance before final testing.\n",
    "\n",
    "Q7.\n",
    "Unsupervised Learning for Anomaly Detection:\n",
    "Unsupervised learning identifies unusual patterns in data without labeled examples. It detects anomalies by recognizing deviations from normal data\n",
    "patterns, useful in cybersecurity, fraud detection, and system monitoring.\n",
    "\n",
    "Q8.\n",
    "Supervised Learning Algorithms: Linear Regression, Logistic Regression, Decision Trees, Random Forests, Support Vector Machines (SVM),\n",
    "Gradient Boosting Machines (GBM).\n",
    "Unsupervised Learning Algorithms: K-means Clustering, Hierarchical Clustering, Principal Component Analysis (PCA), Anomaly \n",
    "Detection Algorithms (e.g., Isolation Forest, One-Class SVM), Association Rule Learning (e.g., Apriori algorithm).\n",
    "\n",
    "\n",
    "\n",
    "\n",
    "'''\n",
    "print('ML01')\n",
    "\n",
    "\n",
    "\n",
    "\n",
    "\n",
    "\n",
    "\n",
    "\n"
   ]
  }
 ],
 "metadata": {
  "kernelspec": {
   "display_name": "Python 3 (ipykernel)",
   "language": "python",
   "name": "python3"
  },
  "language_info": {
   "codemirror_mode": {
    "name": "ipython",
    "version": 3
   },
   "file_extension": ".py",
   "mimetype": "text/x-python",
   "name": "python",
   "nbconvert_exporter": "python",
   "pygments_lexer": "ipython3",
   "version": "3.10.8"
  }
 },
 "nbformat": 4,
 "nbformat_minor": 5
}
